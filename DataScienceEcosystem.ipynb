{
 "cells": [
  {
   "cell_type": "markdown",
   "id": "48b691ff-f43e-4506-8282-ff2a3579d310",
   "metadata": {},
   "source": [
    "# Data Science Tools and Ecosystem"
   ]
  },
  {
   "cell_type": "markdown",
   "id": "184f53a2-778f-4126-b0a9-05e2fbf01e82",
   "metadata": {},
   "source": [
    "In this notebook, Data Science Tools and Ecosystem are summarized."
   ]
  },
  {
   "cell_type": "markdown",
   "id": "e3f04287-9223-4005-9d4b-a1ff1a099d49",
   "metadata": {},
   "source": [
    "**Objectives:**\n",
    "* List popular languages for Data Science\n",
    "* List commonly used libraries used by Data Scientists include:\n",
    "* Create a markdown cell introducing arithmetic expression\n",
    "\n"
   ]
  },
  {
   "cell_type": "markdown",
   "id": "8d547ac7-75a4-4092-8199-25b7ba45ef53",
   "metadata": {},
   "source": [
    "Some of the popular languages that Data Scientists use are:\n",
    "1. Julia\n",
    "2. Python\n",
    "3. R"
   ]
  },
  {
   "cell_type": "markdown",
   "id": "d28ddee6-85be-493b-b814-79269068ace4",
   "metadata": {},
   "source": [
    "Some of the commonly used libraries used by Data Scientists include:\n",
    "1. Panda\n",
    "2. NumPy\n",
    "3. Plotly\n",
    "4. TensorFlow\n",
    "5. Matplotlib"
   ]
  },
  {
   "cell_type": "markdown",
   "id": "2f49170f-c152-4131-acd5-fc501b093f15",
   "metadata": {},
   "source": [
    "|Data Science Tools|\n",
    "|------------------|\n",
    "|JypiterNotebook|\n",
    "|Anaconda|\n",
    "|RStudio|"
   ]
  },
  {
   "cell_type": "markdown",
   "id": "02169d62-3bf9-4ed4-9843-818ff718d896",
   "metadata": {},
   "source": [
    "### Below are a few examples of evaluating arithmetic expressions in Python"
   ]
  },
  {
   "cell_type": "code",
   "execution_count": 55,
   "id": "687153a7-be18-40f7-bb8a-ef80b0fce6ad",
   "metadata": {},
   "outputs": [
    {
     "data": {
      "text/plain": [
       "17"
      ]
     },
     "execution_count": 55,
     "metadata": {},
     "output_type": "execute_result"
    }
   ],
   "source": [
    "##This a simple arithmetic expression to mutiply then add integers\n",
    "(3*4)+5\n"
   ]
  },
  {
   "cell_type": "code",
   "execution_count": 57,
   "id": "425cc897-3541-48bb-aea0-44aa8bf095cc",
   "metadata": {},
   "outputs": [
    {
     "data": {
      "text/plain": [
       "3.3333333333333335"
      ]
     },
     "execution_count": 57,
     "metadata": {},
     "output_type": "execute_result"
    }
   ],
   "source": [
    "##This will convert 200 minutes to hours by diving by 60\n",
    "200/60"
   ]
  },
  {
   "cell_type": "markdown",
   "id": "2a5a9204-e4e0-4caa-86b0-145a6819cae3",
   "metadata": {},
   "source": [
    "## Author\n",
    "Abrahan Baco Navarro\n"
   ]
  },
  {
   "cell_type": "code",
   "execution_count": null,
   "id": "00cb44dd-a2ab-427f-b1d3-d7e30443e8df",
   "metadata": {},
   "outputs": [],
   "source": []
  }
 ],
 "metadata": {
  "kernelspec": {
   "display_name": "Python 3 (ipykernel)",
   "language": "python",
   "name": "python3"
  },
  "language_info": {
   "codemirror_mode": {
    "name": "ipython",
    "version": 3
   },
   "file_extension": ".py",
   "mimetype": "text/x-python",
   "name": "python",
   "nbconvert_exporter": "python",
   "pygments_lexer": "ipython3",
   "version": "3.12.4"
  }
 },
 "nbformat": 4,
 "nbformat_minor": 5
}
